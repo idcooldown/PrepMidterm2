{
  "metadata": {
    "kernelspec": {
      "name": "python",
      "display_name": "Python (Pyodide)",
      "language": "python"
    },
    "language_info": {
      "codemirror_mode": {
        "name": "python",
        "version": 3
      },
      "file_extension": ".py",
      "mimetype": "text/x-python",
      "name": "python",
      "nbconvert_exporter": "python",
      "pygments_lexer": "ipython3",
      "version": "3.8"
    }
  },
  "nbformat_minor": 5,
  "nbformat": 4,
  "cells": [
    {
      "id": "328e59a5-e051-4eb3-946a-8c681901ff92",
      "cell_type": "code",
      "source": "#Write a program that asks the user for their first and last name, and then prints a greeting message using their full name.\n#Example Output\n#Enter your first name: John\n#Enter your last name: Doe\n#Hello, John Doe! Welcome to the program.",
      "metadata": {
        "trusted": true
      },
      "outputs": [],
      "execution_count": 3
    },
    {
      "id": "06be5acb-2ff6-4096-aa25-9c2c989fe3a5",
      "cell_type": "code",
      "source": "first_name = input(\"Enter your first name: \")\nlast_name = input(\"Enter your last name: \")\nfull_name = first_name + \" \" + last_name\nprint(\"Hello, \" + full_name + \"! Welcome to the program.\")",
      "metadata": {
        "trusted": true
      },
      "outputs": [],
      "execution_count": null
    },
    {
      "id": "46ab5aa9-9392-4d55-a7aa-b3184d4bfd1f",
      "cell_type": "code",
      "source": "#Write a program that asks the user to input two integers and then prints the sum of the two numbers.\n\n#Example Output:\n#Enter the first integer: 10\n#Enter the second integer: 25\n#The sum of 10 and 25 is 35.",
      "metadata": {
        "trusted": true
      },
      "outputs": [],
      "execution_count": null
    },
    {
      "id": "a31d14e0-13b2-4a36-b45b-c8ab643e03dd",
      "cell_type": "code",
      "source": "num1 = int(input(\"Enter the first integer: \"))\nnum2 = int(input(\"Enter the second integer: \"))\nsum_result = num1 + num2\nprint(\"The sum of \"+ str(num1) + \" and \" + str(num2) + \" is \" + str(sum_result) + \".\")",
      "metadata": {
        "trusted": true
      },
      "outputs": [],
      "execution_count": null
    },
    {
      "id": "3c7b82b8-d03e-4018-95de-50a99a612f10",
      "cell_type": "code",
      "source": "#Question: Write a Python program that asks the user to enter a temperature in Celsius and then converts it to Fahrenheit. The formula for conversion is:\n#Fahrenheit=(Celsius×9/5)+32\n\n#Example Output:\n#Enter temperature in Celsius: 25\n#25°C is 77.0°F",
      "metadata": {
        "trusted": true
      },
      "outputs": [],
      "execution_count": null
    },
    {
      "id": "f7637081-e662-4d11-a451-4261662200b1",
      "cell_type": "code",
      "source": "celsius = float(input(\"Enter temperature in Celsius:\"))\nfarenheight = (celsius * 9/5) + 32\nprint(str(celsius) + \"°C is \" + str(farenheight) + \"°F\")",
      "metadata": {
        "trusted": true
      },
      "outputs": [],
      "execution_count": null
    },
    {
      "id": "494535f3-aa36-4b13-9bf7-1e80dc2c880f",
      "cell_type": "code",
      "source": "#Write a Python program that asks the user to enter the length and width of a rectangle, and then calculates and prints the area of the rectangle.\n\n#Example Output:\n#Enter the length of the rectangle: 5\n#Enter the width of the rectangle: 10\n#The area of the rectangle is 50.",
      "metadata": {
        "trusted": true
      },
      "outputs": [],
      "execution_count": null
    },
    {
      "id": "3e0f89d4-9779-41a6-a880-6df1e6820ebf",
      "cell_type": "code",
      "source": "length = float(input(\"Enter the length of the rectangle: \")\nwidth = float(input(\"Enter the width of the rectangle: \")\narea = length * width\nprint(\"The area of the rectangle is \" + str(area) + \".\")",
      "metadata": {
        "trusted": true
      },
      "outputs": [],
      "execution_count": null
    },
    {
      "id": "882835df-cc14-4625-9924-317e64a91eab",
      "cell_type": "code",
      "source": "#Write a program that asks the user for a word and a number, then prints the word repeated that number of times.\n\n#Example Output:\n#Enter a word: Hello\n#Enter a number: 3\n#HelloHelloHello",
      "metadata": {
        "trusted": true
      },
      "outputs": [],
      "execution_count": null
    },
    {
      "id": "24808b50-fde4-4c68-9e58-b8b9cda0d592",
      "cell_type": "code",
      "source": "word = input(\"Enter a word: \")\nnumber = int(input(\"Enter a number: \")\nprint(word*number)",
      "metadata": {
        "trusted": true
      },
      "outputs": [],
      "execution_count": null
    },
    {
      "id": "1e4ef9e9-6d25-41ac-a476-b1a7a80c3c1f",
      "cell_type": "code",
      "source": "#Write a program that asks the user to input two numbers. One input should be converted to an integer and the other input should be converted to a float. Then, print the sum of both numbers.\n\n#Example Output:\n#Enter an integer: 5\n#Enter a decimal number: 3.7\n#The sum of 5 and 3.7 is 8.7.",
      "metadata": {
        "trusted": true
      },
      "outputs": [],
      "execution_count": null
    },
    {
      "id": "b693d318-2649-4097-b894-c34d7b0c5908",
      "cell_type": "code",
      "source": "num1 = int(input(\"Enter an integer: \"))\nnum2 = int(input(\"Enter a decimal number: \"))\nsum_result = num1 + num2\nprint(\"The sum of \" + str(num1) + \" and \" + str(num2) + \" is \" + str(sum_result) + \".\")",
      "metadata": {
        "trusted": true
      },
      "outputs": [],
      "execution_count": null
    },
    {
      "id": "b8ef197b-53f5-479c-a808-919b09cd6864",
      "cell_type": "code",
      "source": "#Write a Python program that asks the user to input three numbers. The program should calculate the sum, product, and average of the three numbers and print the results.\n\n#Example Output:\n#Enter the first number: 2\n#Enter the second number: 3\n#Enter the third number: 5\n#The sum is: 10\n#The product is: 30\n#The average is: 3.3333333333333335",
      "metadata": {
        "trusted": true
      },
      "outputs": [],
      "execution_count": 3
    },
    {
      "id": "dc640c9e-c4d0-45af-8a85-55e216f8a455",
      "cell_type": "code",
      "source": "num1 = int(input(\"Enter the first number: \")\nnum2 = int(input(\"Enter the second number: \")\nnum3 = int(input(\"Enter the third number: \")\n           \nsum_result = num1 + num2 + num3\nproduct_result = num1 * num2 * num3\navg_result = sum_result / 3\n\nprint(\"The sum is: \" + str(sum_result))\nprint(\"The product is: \" + str(product_result))\nprint(\"The average is: \" + str(avg_result))",
      "metadata": {
        "trusted": true
      },
      "outputs": [],
      "execution_count": null
    },
    {
      "id": "e540be35-30b3-4c01-bff9-cfb0daf49fd5",
      "cell_type": "code",
      "source": "#Write a Python program that asks the user to enter a temperature. The program should then print True if the temperature is below 0 (freezing), and False if it is 0 or above.\n\n#Example Output:\n#Enter the temperature: -5\n#True",
      "metadata": {
        "trusted": true
      },
      "outputs": [],
      "execution_count": null
    },
    {
      "id": "c583efb4-8d7e-40d3-ad8c-d4ecba63952e",
      "cell_type": "code",
      "source": "temperature = float(input(\"Enter the temperature: \"))\nis_freezing = temperature < 0\nprint(is_freezing)",
      "metadata": {
        "trusted": true
      },
      "outputs": [],
      "execution_count": null
    },
    {
      "id": "4203915b-ec56-4a2d-9898-33bffaebe7bb",
      "cell_type": "code",
      "source": "#Write a Python program that asks the user for their name and favorite number. Then, print a sentence in this format:\n#\"<name>'s favorite number is <favorite number>.\"\n\n#Example Output:\n\n#Enter your name: Alice\n#Enter your favorite number: 42\n#Alice's favorite number is 42.",
      "metadata": {
        "trusted": true
      },
      "outputs": [],
      "execution_count": 5
    },
    {
      "id": "f6ca7f7d-dce7-4315-a3f4-8cf83de1e346",
      "cell_type": "code",
      "source": "name = input(\"Enter your name: \")\nfav_number = input(\"Enter your favorite number: \")\nprint(name + \"'s favorite number is \" + fav_number + \".\")",
      "metadata": {
        "trusted": true
      },
      "outputs": [],
      "execution_count": null
    },
    {
      "id": "3e8cae5a-e064-4032-864f-63304fb25607",
      "cell_type": "code",
      "source": "#Write a Python program that asks the user to input three subjects they are studying. The program should then print a message displaying those subjects.\n\n#Enter the 1st subject: Math\n#Enter the 2nd subject: Science\n#Enter the 3rd subject: History\n#You are studying: Math, Science, History.",
      "metadata": {
        "trusted": true
      },
      "outputs": [],
      "execution_count": 6
    },
    {
      "id": "923bb8d4-296d-44dc-b314-e0bb44e6e318",
      "cell_type": "code",
      "source": "subject1 = input(\"Enter the 1st subject: \")\nsubject2 = input(\"Enter the 2nd subject: \")\nsubject3 = input(\"Enter the 3rd subject: \")\n\nprint(\"You are studying: \" + subject1 + \", \" + subject2 + \", \" + subject3 + \".\")",
      "metadata": {
        "trusted": true
      },
      "outputs": [],
      "execution_count": null
    },
    {
      "id": "bfa355da-0120-43cc-a2c3-efb1b5e040d6",
      "cell_type": "code",
      "source": "#Write a program to store a subject code, mark, and grade in separate variables. Then, use a multi-line statement to print the results in a formatted message.\n\n#Example Output:\n\n#Subject result: CSCI111 mark 80 grade D",
      "metadata": {
        "trusted": true
      },
      "outputs": [],
      "execution_count": null
    },
    {
      "id": "1d13517f-2174-40da-b089-2c5db1ef4bf1",
      "cell_type": "code",
      "source": "subject_code = \"CSCI111\"\nsubject_mark = 80\nsubject_grade = \"D\"\n\nresult = \"Subject result: \"\\\n        + subject_code + \" mark \" + str(subject_mark) \\\n        + \" grade \" + subject_grade\nprint(result)",
      "metadata": {
        "trusted": true
      },
      "outputs": [],
      "execution_count": null
    },
    {
      "id": "ffb52b74-ed5b-4d7b-85f1-5d3e0a853bee",
      "cell_type": "code",
      "source": "#Write a Python program that uses escape sequences to print the following output:\n\n#Welcome to Unimovies!\n#Thursday July 30 at 7.15pm: \"Inside Out\"",
      "metadata": {
        "trusted": true
      },
      "outputs": [],
      "execution_count": null
    },
    {
      "id": "edfa0ca3-eab0-4906-86f6-50ca3186f9de",
      "cell_type": "code",
      "source": "print(\"Welcome to Unimovies!\")\nprint(\"Thursday July 30 at 7.15pm: \\\"Inside Out\\\"\")",
      "metadata": {
        "trusted": true
      },
      "outputs": [],
      "execution_count": null
    },
    {
      "id": "b89f4dc5-4878-4f53-b8de-479001542702",
      "cell_type": "code",
      "source": "#Write a Python program that prints a greeting message using the format() function. The program should ask the user to input their first name, last name, and age, and display the information in the following format:\n\n#Hi [First Name] [Last Name]!\n#[First Name] [Last Name] is [Age] years old.",
      "metadata": {
        "trusted": true
      },
      "outputs": [],
      "execution_count": 7
    },
    {
      "id": "709bd666-a019-48ee-99a0-4eeef5427d5b",
      "cell_type": "code",
      "source": "first_name = input(\"Enter your first name: \")\nlast_name = input(\"Enter your first name: \")\nage = int(input(\"Enter your age: \"))\n\nprint(\"Hi {0} {1}!\".format(first_name, last_name))\nprint(\"{0} {1} is {2} years old.\".format(first_name, last_name, age))",
      "metadata": {
        "trusted": true
      },
      "outputs": [],
      "execution_count": null
    },
    {
      "id": "08c41881-80a6-417f-89cb-6fdfc337aa41",
      "cell_type": "code",
      "source": "#Write a Python program to print a table of elements with proper alignment. Use the following data:\n\n#Elements: Lithium (Li), Sodium (Na), Potassium (K)\n#Atomic numbers: 3, 11, 19\n#Atomic weights: 6.94, 22.99, 39.098\n#Format the output as follows:\n\n#Element        Symbol   Atomic number          Atomic weight\n#Lithium        Li                 3                     6.94\n#Sodium         Na                11                    22.99\n#Potassium      K                 19                    39.10",
      "metadata": {
        "trusted": true
      },
      "outputs": [],
      "execution_count": 8
    },
    {
      "id": "7a556897-6c75-46fe-b360-58c00f3bae0e",
      "cell_type": "code",
      "source": "print(\"{0:<15}{1:<10}{2^25}{3:>15.}\".format(\"Element\", \"Sysmbol\", \"Atomic number\", \"Atomic weight\"))\nprint(\"{0:<15}{1:<10}{2^25}{3:>15.2f}\".format(\"Lithium\", \"Li\", \"3\", \"6.94\"))\nprint(\"{0:<15}{1:<10}{2^25}{3:>15.2f}\".format(\"Sodium\", \"Na\", \"11\", \"22.99\"))\nprint(\"{0:<15}{1:<10}{2^25}{3:>15.2f}\".format(\"Potassium\", \"K\", \"19\", \"39.10\"))\n",
      "metadata": {
        "trusted": true
      },
      "outputs": [],
      "execution_count": null
    },
    {
      "id": "89211d00-c713-4fab-a8ce-b266ad899712",
      "cell_type": "code",
      "source": "#Write a Python program to print the multiplication table for the number 5 using string formatting.\n\n#Example Output:\n#1 x 5 = 5\n#2 x 5 = 10\n#3 x 5 = 15\n#...\n#10 x 5 = 50",
      "metadata": {
        "trusted": true
      },
      "outputs": [],
      "execution_count": 9
    },
    {
      "id": "11014793-1ad3-44d3-be28-726c299f0f46",
      "cell_type": "code",
      "source": "for i in range(1, 11):\n    print(\"{0} x {1} = {2}\".format(i, 5, i*5))",
      "metadata": {
        "trusted": true
      },
      "outputs": [],
      "execution_count": null
    },
    {
      "id": "3935dfa6-1531-417c-b8e9-a3c1e48aa8fb",
      "cell_type": "code",
      "source": "#Write a program that asks the user for two integers. Then, calculate and print both the division result and the floor division result.\n\n#Example Output:\n#Enter the first number: 10\n#Enter the second number: 3\n#Division: 10 / 3 = 3.3333333333333335\n#Floor Division: 10 // 3 = 3",
      "metadata": {
        "trusted": true
      },
      "outputs": [],
      "execution_count": null
    },
    {
      "id": "c14e9cb7-86a7-49f6-80aa-d004eba5166e",
      "cell_type": "code",
      "source": "num1 = int(input(\"Enter the first number: \")\nnum2 = int(input(\"Enter the second number: \")\n\ndivision = num1 / num2\nfloor_division = num1 // num2\n\nprint(f\"Division: {num1} / {num2} = {division}\")\nprint(f\"Floor Division: {num1} // {num2} = {floor_division}\")",
      "metadata": {
        "trusted": true
      },
      "outputs": [],
      "execution_count": null
    },
    {
      "id": "fb74a256-cdd4-4448-9a49-c5dab500c662",
      "cell_type": "code",
      "source": "#Write a Python program that asks the user for a number and an exponent, then calculates and prints the result of raising the number to the exponent using **.\n\n#Example Output:\n#Enter the base number: 2\n#Enter the exponent: 3\n#Result: 2 raised to the power of 3 is 8",
      "metadata": {
        "trusted": true
      },
      "outputs": [],
      "execution_count": null
    },
    {
      "id": "03381920-f5b7-43b1-ba10-08170f2e86be",
      "cell_type": "code",
      "source": "base = float(input(\"Enter the base number: \")\nexponent = float(input(\"Enter the exponent: \")\nresult = base ** exponent\n\nprint(f\"Result: {base} raised to the power of {exponent} is {result}\")",
      "metadata": {
        "trusted": true
      },
      "outputs": [],
      "execution_count": null
    },
    {
      "id": "d4aa4d69-3f1b-4520-8c2c-74ed5a16cc83",
      "cell_type": "code",
      "source": "#Write a Python program that asks the user for a number and checks whether it is even or odd using the modulus operator %.\n\n#Example Output:\n#Enter a number: 7\n#7 is odd.",
      "metadata": {
        "trusted": true
      },
      "outputs": [],
      "execution_count": null
    },
    {
      "id": "1690631d-f1d9-4522-ae34-e6b813e8fdac",
      "cell_type": "code",
      "source": "num = int(input(\"Enter a number: \")0\nif num % == 0:\n    print(f\"{num} is even.\")\nelse:\n    print(f\"{num} is odd.\")",
      "metadata": {
        "trusted": true
      },
      "outputs": [],
      "execution_count": null
    },
    {
      "id": "01ad6f47-067b-4dd4-824d-c8f07530e04f",
      "cell_type": "code",
      "source": "#A shop sells a product for $10, but there is a discount where 3 items cost $20. Write a program to calculate the total cost based on the number of items the user wants to buy.\n\n#Example Output:\n#Enter the number of items: 7\n#The total cost is: $50",
      "metadata": {
        "trusted": true
      },
      "outputs": [],
      "execution_count": null
    },
    {
      "id": "5a9e6399-6926-4215-9fcc-651044807aae",
      "cell_type": "code",
      "source": "items = int(input(\"Enter the number of items: \"))\ncost = (items // 3) * 20 + (items % 3) * 10\nprint(f\"The total cost is: ${cost}\")",
      "metadata": {
        "trusted": true
      },
      "outputs": [],
      "execution_count": null
    },
    {
      "id": "6fb71a3d-b2f4-4ea7-82ab-7d7d1150616f",
      "cell_type": "code",
      "source": "#Escape Sequences: Write a program to print:\n\n#John said: \"I am learning Python.\"",
      "metadata": {
        "trusted": true
      },
      "outputs": [],
      "execution_count": null
    },
    {
      "id": "057efeb3-f603-4330-9941-f6822779793c",
      "cell_type": "code",
      "source": "print(\"John said: \\\"I am learning Python\\\"\")",
      "metadata": {
        "trusted": true
      },
      "outputs": [],
      "execution_count": null
    },
    {
      "id": "39897a35-4b5f-44e4-a249-e5e37b7fd7d0",
      "cell_type": "code",
      "source": "#String Formatting: Write a program that asks for the user's name and age, then prints:\n\n#John is 25 years old.",
      "metadata": {
        "trusted": true
      },
      "outputs": [],
      "execution_count": null
    },
    {
      "id": "d99bcf89-ae1c-4db2-9673-ed25ed688c3b",
      "cell_type": "code",
      "source": "name = input(\"Enter your name: \")\nage = int(input(\"Enter your age: \")\n\nprint(\"{0} is {1} years old.\".format(name, age))",
      "metadata": {
        "trusted": true
      },
      "outputs": [],
      "execution_count": null
    },
    {
      "id": "950a2a56-6f5b-4d4a-907a-fd5cce5b252e",
      "cell_type": "code",
      "source": "#Arithmetic Operations: Write a program that asks for two numbers and prints their division and floor division results. ",
      "metadata": {
        "trusted": true
      },
      "outputs": [],
      "execution_count": null
    },
    {
      "id": "4b987bd4-f099-4ced-899a-d297bc6ba3d2",
      "cell_type": "code",
      "source": "num1 = int(input(\"Enter your first number: \"))\nnum2 = int(input(\"Enter your second number: \"))\n\nprint(\"Division:\" , num1 / num2)\nprint(\"Floor Division:\" , num1 // num2)",
      "metadata": {
        "trusted": true
      },
      "outputs": [],
      "execution_count": null
    },
    {
      "id": "7502e190-d29c-4475-8e55-e996edec1c20",
      "cell_type": "code",
      "source": "#Check if a Number is Positive, Negative, or Zero: Write a Python program that asks the user to \n#input a number and checks if the number is positive, negative, or zero.",
      "metadata": {
        "trusted": true
      },
      "outputs": [],
      "execution_count": 11
    },
    {
      "id": "949cd1a1-bd69-4b5f-aba0-ba73cfcd0465",
      "cell_type": "code",
      "source": "number = float(input(\"Enter a number: \"))\n\nif number > 0:\n    print(\"Positive\")\nelif number < 0:\n    print(\"Negative\")\nelse:\n    print(\"Zero\")      ",
      "metadata": {
        "trusted": true
      },
      "outputs": [],
      "execution_count": null
    },
    {
      "id": "18bc22f3-b950-49f0-a867-f9d7e9f094b8",
      "cell_type": "code",
      "source": "#Write a Python program to determine the grade based on the user's inputted mark. Use the following criteria:\n\n#A: 80-100\n#B: 60-79\n#C: 40-59\n#D: 0-39",
      "metadata": {
        "trusted": true
      },
      "outputs": [],
      "execution_count": null
    },
    {
      "id": "c20c5abf-4b75-4e47-ad89-324a01206ad9",
      "cell_type": "code",
      "source": "mark = int(input(\"Enter your mark: \"))\n\nif mark >=80:\n    grade = \"A\"\nelif mark >= 60:\n    grade = \"B\"\nelif mark >= 40:\n    grade = \"C\"\nelse:\n    grade = \"D\"\n\nprint(f\"Mark {mark} Grade {grade}\")",
      "metadata": {
        "trusted": true
      },
      "outputs": [],
      "execution_count": null
    },
    {
      "id": "8430c54f-a9f7-46ee-a3d1-41bb8fa6b8d1",
      "cell_type": "code",
      "source": "#Find Maximum of Three Numbers: Write a Python program to find the maximum of three numbers entered by the user.",
      "metadata": {
        "trusted": true
      },
      "outputs": [],
      "execution_count": null
    },
    {
      "id": "9ee6d481-21f4-407a-aaf2-614e46196a57",
      "cell_type": "code",
      "source": "num1 = int(input(\"Enter the 1st number: \"))\nnum2 = int(input(\"Enter the 2nd number: \"))\nnum3 = int(input(\"Enter the 3rd number: \"))\n\nmax_num = num1\n\nif num2 > max_num:\n    max_num = num2\nelif num3 > max_num:\n    max_num = num3\n\nprint(f\"The maximum number is {max_num}\")",
      "metadata": {
        "trusted": true
      },
      "outputs": [],
      "execution_count": null
    },
    {
      "id": "2437ac7d-2100-459a-a4eb-3a33314050e4",
      "cell_type": "code",
      "source": "#Multiplication Table: Write a Python program that asks the user to enter a number and prints the multiplication table for that number (from 1 to 10).",
      "metadata": {
        "trusted": true
      },
      "outputs": [],
      "execution_count": null
    },
    {
      "id": "ad9b9b11-23f2-47ac-bd4f-c085e93f5104",
      "cell_type": "code",
      "source": "number = int(input(\"Enter a number: \"))\nfor i in range(1, 11):\n    print(f\"{i} x {number} = {i * number}\")",
      "metadata": {
        "trusted": true
      },
      "outputs": [],
      "execution_count": null
    },
    {
      "id": "81a844a4-dee0-45e1-9d3a-ab3dc05c17b4",
      "cell_type": "code",
      "source": "#Sum of Numbers from 1 to 100: Write a Python program to calculate the sum of numbers from 1 to 100.",
      "metadata": {
        "trusted": true
      },
      "outputs": [],
      "execution_count": null
    },
    {
      "id": "fd2c1bfb-91bc-440a-ad13-3b8a8e1d0964",
      "cell_type": "code",
      "source": "result = 0\nfor i in range(1, 101):\n    result += i\nprint(f\"The sum of number from 1 to 100 is {result}\")",
      "metadata": {
        "trusted": true
      },
      "outputs": [],
      "execution_count": null
    },
    {
      "id": "3e61e972-eb37-44d3-8b40-c02ed6143884",
      "cell_type": "code",
      "source": "#Password Generator: Write a Python program that generates a password from a username. \n#Replace 'i' with '1', 'r' with '7', 's' with '5', and 'z' with '2'.",
      "metadata": {
        "trusted": true
      },
      "outputs": [],
      "execution_count": null
    },
    {
      "id": "186098c9-8043-4238-8a58-2ff903bd49a8",
      "cell_type": "code",
      "source": "username = input(\"Enter username: \")\npassword = \"\"\n\nfor letter in username:\n    if letter == 'i':\n        password += '1'\n    elif letter == 'r':\n        password += '7'\n    elif letter == 's':\n        password += '5'\n    elif letter == 'z':\n        password += '2'\n    else\n        password += letter\n\nprint(f\"Password is: {password}\")",
      "metadata": {
        "trusted": true
      },
      "outputs": [],
      "execution_count": null
    },
    {
      "id": "f103b0ac-3227-4f09-97a9-c81227c4f84c",
      "cell_type": "code",
      "source": "#Write a Function to Add Two Numbers: Write a Python function that takes two numbers as input and returns their sum.",
      "metadata": {
        "trusted": true
      },
      "outputs": [],
      "execution_count": null
    },
    {
      "id": "3ec34355-c57c-4a79-906a-64cb0c71c6c7",
      "cell_type": "code",
      "source": "def add_two_numbers(a, b):\n    return a + b\nprint(add_two_numbers(3, 4))",
      "metadata": {
        "trusted": true
      },
      "outputs": [],
      "execution_count": null
    },
    {
      "id": "54898b98-925f-45dc-bdcc-8cbb30cebbc9",
      "cell_type": "code",
      "source": "#Grading Function: Write a Python function that takes a student's mark as input and returns their grade using this scale:\n\n#A: 80–100\n#B: 60–79\n#C: 40–59\n#D: 0–39",
      "metadata": {
        "trusted": true
      },
      "outputs": [],
      "execution_count": null
    },
    {
      "id": "5faec519-3deb-495a-a63d-cb54470bc409",
      "cell_type": "code",
      "source": "def calculate_grade(mark):\n    if mark >= 80:\n        return \"A\"\n    elif mark >= 60:\n        return \"B\"\n    elif mark >= 40:\n        return \"C\"\n    else:\n        return \"D\"",
      "metadata": {
        "trusted": true
      },
      "outputs": [],
      "execution_count": null
    },
    {
      "id": "e6cefc6f-a239-4ba5-ac51-1b318c5fa3d2",
      "cell_type": "code",
      "source": "#Factorial Calculation Using Recursion: Write a Python recursive function to compute the factorial of a number.",
      "metadata": {
        "trusted": true
      },
      "outputs": [],
      "execution_count": null
    },
    {
      "id": "83e81c83-6295-4d4e-90ea-94cb9a42c580",
      "cell_type": "code",
      "source": "def factorial(n):\n    if n == 1:\n        return 1\n    else:\n        return n * factorial(n-1)\n\nprint(factorial(5))",
      "metadata": {
        "trusted": true
      },
      "outputs": [],
      "execution_count": null
    },
    {
      "id": "b6d747c2-a0ee-4ffe-83ba-eac3e1b3010a",
      "cell_type": "code",
      "source": "#Backward Counting: Write a Python program that uses a while loop to count backward from 10 to 0.",
      "metadata": {
        "trusted": true
      },
      "outputs": [],
      "execution_count": null
    },
    {
      "id": "8331211c-3259-4ea7-9970-19657cd16c57",
      "cell_type": "code",
      "source": "i = 10\nwhile i >= 0:\n    print(i)\n    i -= 1",
      "metadata": {
        "trusted": true
      },
      "outputs": [],
      "execution_count": null
    },
    {
      "id": "a0afdc0c-df46-4606-9de5-9f9633a909da",
      "cell_type": "code",
      "source": "#Even and Odd Number Counter: Write a Python program that repeatedly asks the user for an integer. \n#It should count how many of the entered numbers are even and how many are odd. \n#The program should stop when the user enters \"q\".",
      "metadata": {
        "trusted": true
      },
      "outputs": [],
      "execution_count": null
    },
    {
      "id": "8d35ab0e-c562-40ab-8ec8-19764822eb47",
      "cell_type": "code",
      "source": "even_count = 0\nodd_count = 0\nwhile True:\n    user_input = input(\"Enter an integer (or 'q' to quit): \")\n    if user_input == 'q':\n        break\n    number = int(user_input)\n    if number % 2 == 0:\n        even_count += 1\n    else:\n        odd_count += 1\nprint(f\"You have entered {even_count} even numbers and {odd_count} odd numbers.\")",
      "metadata": {
        "trusted": true
      },
      "outputs": [],
      "execution_count": null
    },
    {
      "id": "8a82afad-1b23-48d7-8b63-b310ae098e03",
      "cell_type": "code",
      "source": "#Keep Asking for Positive Number: Write a Python program that keeps asking the user to enter a positive integer until they enter one.",
      "metadata": {
        "trusted": true
      },
      "outputs": [],
      "execution_count": null
    },
    {
      "id": "aea42240-2799-4671-b7c8-b070e0e3a8bf",
      "cell_type": "code",
      "source": "while True:\n    number = int(input(\"Enter a positive integer: \"))\n    if number > 0:\n        break\nprint(f\"You have entered: {number}\")",
      "metadata": {
        "trusted": true
      },
      "outputs": [],
      "execution_count": null
    },
    {
      "id": "57344a7e-822b-4ef5-878e-bf89bf858b0c",
      "cell_type": "code",
      "source": "",
      "metadata": {
        "trusted": true
      },
      "outputs": [],
      "execution_count": null
    },
    {
      "id": "876b7dfc-9ced-4c88-90b4-b302fd0f808b",
      "cell_type": "code",
      "source": "",
      "metadata": {
        "trusted": true
      },
      "outputs": [],
      "execution_count": null
    }
  ]
}